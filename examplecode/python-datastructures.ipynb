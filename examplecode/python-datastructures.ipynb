{
  "nbformat": 4,
  "nbformat_minor": 0,
  "metadata": {
    "colab": {
      "provenance": [],
      "include_colab_link": true
    },
    "kernelspec": {
      "name": "python3",
      "display_name": "Python 3"
    },
    "language_info": {
      "name": "python"
    }
  },
  "cells": [
    {
      "cell_type": "markdown",
      "metadata": {
        "id": "view-in-github",
        "colab_type": "text"
      },
      "source": [
        "<a href=\"https://colab.research.google.com/github/kartoone/cosc470s24/blob/main/examplecode/python-datastructures.ipynb\" target=\"_parent\"><img src=\"https://colab.research.google.com/assets/colab-badge.svg\" alt=\"Open In Colab\"/></a>"
      ]
    },
    {
      "cell_type": "markdown",
      "source": [
        "**LISTS** [ ]"
      ],
      "metadata": {
        "id": "YHpXaH7TkYYO"
      }
    },
    {
      "cell_type": "code",
      "execution_count": null,
      "metadata": {
        "id": "CxYh2gy2wTtQ",
        "colab": {
          "base_uri": "https://localhost:8080/"
        },
        "outputId": "07580ac3-c3c5-4b44-eda5-1e8eb55b8e12"
      },
      "outputs": [
        {
          "output_type": "stream",
          "name": "stdout",
          "text": [
            "['apple', 3.0, True, 2]\n",
            "apple\n",
            "apple\n",
            "3.0\n",
            "True\n",
            "2\n",
            "0 - apple\n",
            "1 - 3.0\n",
            "2 - True\n",
            "3 - 2\n"
          ]
        }
      ],
      "source": [
        "myList = [\"apple\",3.0,True,2]\n",
        "print(myList)\n",
        "print(myList[0])\n",
        "for val in myList:\n",
        "  print(val)\n",
        "\n",
        "for i, val in enumerate(myList):\n",
        "  print(f\"{i} - {val}\")"
      ]
    },
    {
      "cell_type": "markdown",
      "source": [
        "**DICTIONARIES** { }"
      ],
      "metadata": {
        "id": "WUYBLotDkS8D"
      }
    },
    {
      "cell_type": "code",
      "source": [
        "myDictionary = {\n",
        "    \"title\" : \"apple\",\n",
        "    \"price\" : 3.0\n",
        "}\n",
        "\n",
        "print(myDictionary)\n",
        "print(myDictionary[\"title\"])\n",
        "\n",
        "for key, val in myDictionary.items():\n",
        "  print(f\"{key} - {val}\")"
      ],
      "metadata": {
        "colab": {
          "base_uri": "https://localhost:8080/"
        },
        "id": "d9_XCIKH0C_O",
        "outputId": "202b6b41-8204-4a37-c9ff-15504facef79"
      },
      "execution_count": null,
      "outputs": [
        {
          "output_type": "stream",
          "name": "stdout",
          "text": [
            "{'title': 'apple', 'price': 3.0}\n",
            "apple\n",
            "title - apple\n",
            "price - 3.0\n"
          ]
        }
      ]
    },
    {
      "cell_type": "markdown",
      "source": [
        "**TUPLES** ( )"
      ],
      "metadata": {
        "id": "PsWG4Fsqkeox"
      }
    },
    {
      "cell_type": "code",
      "source": [
        "myTuple1 = (\"apple\", 4.0)   # essentially an immutable list ... cannot add or change a tuple in any way\n",
        "myTuple2 = (\"banana\", 3.0)\n",
        "myListOfTuples = [ myTuple1, myTuple2 ]\n",
        "\n",
        "print(myTuple1)\n",
        "print(myListOfTuples)\n",
        "\n",
        "# dynamically creating tuples from independent lists using zip function to create iterator\n",
        "list_itemnames = [\"apple\", \"banana\"]\n",
        "list_itemprices = [4.0, 3.0]\n",
        "for item in zip(list_itemnames, list_itemprices):\n",
        "  print(f\"{item[0]}: {item[1]}\")"
      ],
      "metadata": {
        "id": "ZnoyhzQmmMeW",
        "outputId": "e7949375-aeed-4090-a1b6-4c956bb771ba",
        "colab": {
          "base_uri": "https://localhost:8080/"
        }
      },
      "execution_count": 6,
      "outputs": [
        {
          "output_type": "stream",
          "name": "stdout",
          "text": [
            "('apple', 4.0)\n",
            "[('apple', 4.0), ('banana', 3.0)]\n",
            "apple: 4.0\n",
            "banana: 3.0\n"
          ]
        }
      ]
    }
  ]
}